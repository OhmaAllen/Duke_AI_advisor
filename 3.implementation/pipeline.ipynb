{
 "cells": [
  {
   "cell_type": "code",
   "execution_count": 30,
   "metadata": {},
   "outputs": [],
   "source": [
    "user_input = 'I want to take a software development course, give me some recommendations'\n",
    "rag_num_return = 10\n",
    "\n",
    "rag_model_path = '../models/gte-base-en-v1.5'\n",
    "rerank_model_path = \"../models/gte-multilingual-reranker-base\"\n",
    "llm_model_name = \"../models/Qwen2.5-0.5B-Instruct\""
   ]
  },
  {
   "cell_type": "markdown",
   "metadata": {},
   "source": [
    "# RAG"
   ]
  },
  {
   "cell_type": "code",
   "execution_count": 31,
   "metadata": {},
   "outputs": [],
   "source": [
    "from pymilvus import MilvusClient\n",
    "from sentence_transformers import SentenceTransformer\n",
    "import torch\n",
    "from transformers import AutoModelForSequenceClassification, AutoTokenizer\n",
    "from transformers import AutoModelForCausalLM, AutoTokenizer\n",
    "\n",
    "client = MilvusClient(\"dukies.db\")\n"
   ]
  },
  {
   "cell_type": "code",
   "execution_count": 32,
   "metadata": {},
   "outputs": [
    {
     "name": "stdout",
     "output_type": "stream",
     "text": [
      "using mps for inferencing\n"
     ]
    }
   ],
   "source": [
    "device = torch.device(\"cuda\" if torch.cuda.is_available() else \"mps\" if torch.backends.mps.is_available() else \"cpu\")\n",
    "print(f'using {device} for inferencing')\n",
    "\n",
    "model = SentenceTransformer(rag_model_path, trust_remote_code=True)\n",
    "model.to(device)\n",
    "\n",
    "query_vectors = model.encode([user_input])\n",
    "\n",
    "res = client.search(\n",
    "    collection_name=\"rag_collection\",  # target collection\n",
    "    data=query_vectors,  # query vectors\n",
    "    limit=rag_num_return,  # number of returned entities\n",
    "    output_fields=[\"text\", \"subject\"],  # specifies fields to be returned\n",
    ")\n",
    "\n",
    "res_list = [res[0][i]['entity']['text'] for i in range(len(res[0]))]\n",
    "dist_list = [res[0][i]['distance'] for i in range(len(res[0]))]"
   ]
  },
  {
   "cell_type": "code",
   "execution_count": 33,
   "metadata": {},
   "outputs": [
    {
     "name": "stdout",
     "output_type": "stream",
     "text": [
      "Course Code: ECE 651K\n",
      "Course Name: Software Engineering\n",
      "Description:\n",
      "Teaches students about all steps of the software development lifecycle: requirements definition, design, development, testing, and maintenance. The course assumes students are skilled object-oriented programmers from prior courses, but will include a rapid introduction to Java. Students complete team-based semester-long software project which will progress through all phases of the software lifecycle. Taught at Duke Kunshan University in Kunshan, China. Prerequisite: ECE 551K.\n",
      "Course Code: ECE 564\n",
      "Course Name: Mobile Application Development\n",
      "Description:\n",
      "Explores mobile application development in the Apple Development Environment. Uses core software engineering pillars of Swift, Xcode, iOS & Xcode Cloud to learn how to create apps for Apple products. Focuses on iOS/iPhone, but Xcode also allows for exploration into the VisionPro, the Apple Watch, the iPad, and Apple TV. Real world context focused on common programming patterns for engineers in academia or business - standalone apps, apps connected to other systems, apps connected to the cloud. Covers software engineering fundamentals essential to understanding all aspects of app development. Each team will deliver a fully functioning app. Recommended prerequisite: CompSci 307D or CompSci 308 or ECE 651.\n",
      "COMPSCI  590D\n",
      "Different advanced topics in Computer Science.\n",
      "Overview of professor Owen L. Astrachan: \n",
      "Object-oriented design, software architecture, computer science education, apprentice learning, and automated reasoning.\n",
      "COMPSCI  207\n",
      "This class explores the world of mobile applications development based on Apple's iOS operating system and Swift programming language. The class will work on Mac computers running Xcode, the integrated development environment, to develop applications for iPhone/iPad devices. The class covers fundamentals essential to understanding all aspects of app development from concept to deployment on the App Store. Students required to present their project proposals and deliver a fully functional mobile application as a final project. Prerequisite: Computer Science 201. Computer Science 250 preferred. Instructor Thomas\n",
      "Prerequisites\n",
      "Prerequisite: Computer Science 201 or equivalent\n",
      "Course Code: ECE 551DK\n",
      "Course Name: Programming, Data Structures, and Algorithms in C++\n",
      "Description:\n",
      "Students learn to program in C and C++ with coverage of data structures (linked lists, binary trees, hash tables, graphs), Abstract Data Types (Stacks, Queues, Maps, Sets), and algorithms (sorting, graph search, minimal spanning tree). Efficiency of these structures and algorithms is compared via Big-O analysis. Brief coverage of concurrent (multi-threaded) programming. Emphasis is placed on defensive coding, and use of standard UNIX development tools in preparation for students' entry into real world software development jobs. Taught at Duke Kunshan University in Kunshan, China.\n",
      "COMPSCI  408\n",
      "Development of software in teams that benefits a real-world client in the client's area of expertise. Meet client demands and needs including technology management skills such as feasibility assessment, project planning, project implementation, usability testing, documentation, marketing, and roll-out. Create significant software product, understand software development cycle at scale, create written work to accompany software. Recommended prerequisite: Computer Science 308 or similar team programming experience.\n",
      "Overview of professor Robert C. Duvall: \n",
      "Object-oriented programming, design patterns, graphics, animation and visualization, artificial life, and programming languages.\n",
      "Course Code: ECE 650K\n",
      "Course Name: Systems Programming and Engineering\n",
      "Description:\n",
      "Focuses on a range of topics that are central to both the design of operating systems and the programming system-level software. Students will apply knowledge of basic concepts in operating systems, networking, and programming towards these two areas. Topics covered will include concurrency, process management, hypervisors, networking, security, databases, and file systems. Students will be expected to demonstrate their understanding in these areas through a series of programming assignments covering these topics. Taught at Duke Kunshan University in Kunshan, China. Prerequisite: ECE 550K and ECE 551K.\n",
      "Course Code: ECE 560\n",
      "Course Name: Computer and Information Security\n",
      "Description:\n",
      "An intense trip through many facets of computer and information security. Includes discussion and practical exercises in risk management, threat modeling, applied cryptography, malicious software, network security, intrusion detection and prevention, software and OS security, auditing and forensics, reverse engineering, and social engineering. Includes many hands-on security assignments. Prerequisite: Computer Science 310, ECE 353, or ECE 650.\n"
     ]
    }
   ],
   "source": [
    "for res in res_list:\n",
    "    print(res)"
   ]
  },
  {
   "cell_type": "markdown",
   "metadata": {},
   "source": [
    "# Rerank"
   ]
  },
  {
   "cell_type": "code",
   "execution_count": 34,
   "metadata": {},
   "outputs": [],
   "source": [
    "tokenizer = AutoTokenizer.from_pretrained(rerank_model_path)\n",
    "model = AutoModelForSequenceClassification.from_pretrained(\n",
    "    rerank_model_path, trust_remote_code=True,\n",
    "    torch_dtype=torch.float16\n",
    ").to(device)\n",
    "model.eval()\n",
    "\n",
    "pairs = [[user_input, res_list[i]] for i in range(len(res_list))]\n",
    "\n",
    "with torch.no_grad():\n",
    "    inputs = tokenizer(pairs, padding=True, truncation=True, return_tensors='pt', max_length=512).to(device)\n",
    "    scores = model(**inputs, return_dict=True).logits.view(-1, ).float()\n",
    "\n",
    "selected_responses = [res_list[i] for i, score in enumerate(scores) if score > 0]\n"
   ]
  },
  {
   "cell_type": "code",
   "execution_count": 35,
   "metadata": {},
   "outputs": [
    {
     "name": "stdout",
     "output_type": "stream",
     "text": [
      "Answer the following questions as best you can. You have refer to the following context:\n",
      "\n",
      "----------\n",
      "Course Code: ECE 651K\n",
      "Course Name: Software Engineering\n",
      "Description:\n",
      "Teaches students about all steps of the software development lifecycle: requirements definition, design, development, testing, and maintenance. The course assumes students are skilled object-oriented programmers from prior courses, but will include a rapid introduction to Java. Students complete team-based semester-long software project which will progress through all phases of the software lifecycle. Taught at Duke Kunshan University in Kunshan, China. Prerequisite: ECE 551K.\n",
      "\n",
      "Course Code: ECE 564\n",
      "Course Name: Mobile Application Development\n",
      "Description:\n",
      "Explores mobile application development in the Apple Development Environment. Uses core software engineering pillars of Swift, Xcode, iOS & Xcode Cloud to learn how to create apps for Apple products. Focuses on iOS/iPhone, but Xcode also allows for exploration into the VisionPro, the Apple Watch, the iPad, and Apple TV. Real world context focused on common programming patterns for engineers in academia or business - standalone apps, apps connected to other systems, apps connected to the cloud. Covers software engineering fundamentals essential to understanding all aspects of app development. Each team will deliver a fully functioning app. Recommended prerequisite: CompSci 307D or CompSci 308 or ECE 651.\n",
      "\n",
      "COMPSCI  408\n",
      "Development of software in teams that benefits a real-world client in the client's area of expertise. Meet client demands and needs including technology management skills such as feasibility assessment, project planning, project implementation, usability testing, documentation, marketing, and roll-out. Create significant software product, understand software development cycle at scale, create written work to accompany software. Recommended prerequisite: Computer Science 308 or similar team programming experience.\n",
      "----------\n",
      "\n",
      "Question: I want to take a software development course, give me some recommendations\n",
      "\n"
     ]
    }
   ],
   "source": [
    "def remove_empty_lines(input_string):\n",
    "    return '\\n'.join(line for line in input_string.splitlines() if line.strip())\n",
    "selected_responses = [remove_empty_lines(s) for s in selected_responses]\n",
    "\n",
    "rag_str = '\\n\\n'.join([response for response in selected_responses])\n",
    "\n",
    "\n",
    "final_prompt = f'''Answer the following questions as best you can. You have refer to the following context:\n",
    "\n",
    "----------\n",
    "{rag_str}\n",
    "----------\n",
    "\n",
    "Question: {user_input}\n",
    "'''\n",
    "print(final_prompt)"
   ]
  },
  {
   "cell_type": "code",
   "execution_count": 36,
   "metadata": {},
   "outputs": [
    {
     "name": "stderr",
     "output_type": "stream",
     "text": [
      "Special tokens have been added in the vocabulary, make sure the associated word embeddings are fine-tuned or trained.\n"
     ]
    },
    {
     "name": "stdout",
     "output_type": "stream",
     "text": [
      "Certainly! Here are some suggestions based on the provided information:\n",
      "\n",
      "### Course Recommendation\n",
      "\n",
      "**ECE 651K:**\n",
      "- **Course Description:** This is a comprehensive course covering all stages of the software development lifecycle (requirements definition, design, development, testing, and maintenance). It assumes prior knowledge in object-oriented programming from previous courses and introduces you to Java.\n",
      "  \n",
      "- **Prerequisites:** While not strictly necessary, familiarity with object-oriented programming concepts and familiarity with basic Java syntax would be beneficial.\n",
      "\n",
      "**ECE 564:**\n",
      "- **Course Description:** This course focuses on mobile application development using Swift, Xcode, iOS, and Xcode Cloud. It covers creating apps for Apple products, focusing on both iOS and iPhone platforms.\n",
      "\n",
      "- **Prerequisites:** A solid foundation in Objective-C and familiarity with Xcode are required.\n",
      "\n",
      "**CompSci 408:**\n",
      "- **Course Description:** This course aims to help develop software in teams while benefiting a real-world client. It emphasizes teamwork, problem-solving, and creating significant software products, understanding the software development cycle at scale, and writing detailed reports.\n",
      "\n",
      "- **Prerequisites:** Familiarity with team programming practices, computer science principles, and an understanding of software development methodologies like Agile or Waterfall.\n",
      "\n",
      "### Additional Recommendations\n",
      "\n",
      "1. **Software Engineering Foundations:**\n",
      "   - **Introduction to Object-Oriented Programming:** Although not mandatory, having a basic understanding of object-oriented programming concepts can be beneficial.\n",
      "   - **Design Patterns:** Familiarity with various design patterns and patterns applicable to different software development environments (e.g., MVC, MVVM, State Pattern).\n",
      "\n",
      "2. **Project Management Skills:**\n",
      "   - **Planning and Execution:** Experience in planning projects and execution is crucial for success in this field.\n",
      "   - **Documentation:** Good documentation skills are important for maintaining codebases over time.\n",
      "\n",
      "3. **Client-Side Applications:**\n",
      "   - **User Interface Design:** Understanding user interface design principles and techniques can significantly enhance your ability to create engaging applications.\n",
      "   - **Testing:** Knowledge of automated testing tools and frameworks can greatly improve the quality and reliability of your applications.\n",
      "\n",
      "4. **Cross-Platform Development:**\n",
      "   - **iOS/iPhone:** Familiarity with iOS development is essential if working with this platform.\n",
      "   - **Xcode and Other Tools:** Knowledge of Xcode and other development tools can make your development process more efficient and streamlined.\n",
      "\n",
      "5. **Agile/DevOps Practices:**\n",
      "   - **Scrum or Kanban:** Understanding agile methodologies can\n"
     ]
    }
   ],
   "source": [
    "model = AutoModelForCausalLM.from_pretrained(\n",
    "    llm_model_name,\n",
    "    torch_dtype=\"auto\",\n",
    "    device_map=\"auto\"\n",
    ").to(device)\n",
    "tokenizer = AutoTokenizer.from_pretrained(llm_model_name)\n",
    "\n",
    "messages = [\n",
    "    {\"role\": \"system\", \"content\": \"You are Qwen, created by Alibaba Cloud. You are a helpful assistant.\"},\n",
    "    {\"role\": \"user\", \"content\": final_prompt}\n",
    "]\n",
    "text = tokenizer.apply_chat_template(\n",
    "    messages,\n",
    "    tokenize=False,\n",
    "    add_generation_prompt=True\n",
    ")\n",
    "model_inputs = tokenizer([text], return_tensors=\"pt\").to(device)\n",
    "with torch.no_grad():  # Disable gradient calculations for inference\n",
    "    generated_ids = model.generate(\n",
    "        **model_inputs,\n",
    "        max_new_tokens=512,\n",
    "    )\n",
    "generated_ids = [\n",
    "    output_ids[len(input_ids):] for input_ids, output_ids in zip(model_inputs.input_ids, generated_ids)\n",
    "]\n",
    "\n",
    "response = tokenizer.batch_decode(generated_ids, skip_special_tokens=True)[0]\n",
    "\n",
    "print(response)"
   ]
  }
 ],
 "metadata": {
  "kernelspec": {
   "display_name": "myenv",
   "language": "python",
   "name": "python3"
  },
  "language_info": {
   "codemirror_mode": {
    "name": "ipython",
    "version": 3
   },
   "file_extension": ".py",
   "mimetype": "text/x-python",
   "name": "python",
   "nbconvert_exporter": "python",
   "pygments_lexer": "ipython3",
   "version": "3.12.7"
  }
 },
 "nbformat": 4,
 "nbformat_minor": 2
}
